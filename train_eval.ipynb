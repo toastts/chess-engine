{
 "metadata": {
  "language_info": {
   "codemirror_mode": {
    "name": "ipython",
    "version": 3
   },
   "file_extension": ".py",
   "mimetype": "text/x-python",
   "name": "python",
   "nbconvert_exporter": "python",
   "pygments_lexer": "ipython3",
   "version": "3.7.7-final"
  },
  "orig_nbformat": 2,
  "kernelspec": {
   "name": "python3",
   "display_name": "Python 3"
  }
 },
 "nbformat": 4,
 "nbformat_minor": 2,
 "cells": [
  {
   "cell_type": "code",
   "execution_count": 1,
   "metadata": {},
   "outputs": [],
   "source": [
    "import pandas as pd\n",
    "from pandas import read_csv\n",
    "from matplotlib import pyplot as plt\n",
    "import numpy as np\n",
    "import chess\n",
    "from chess import pgn\n",
    "import os"
   ]
  },
  {
   "cell_type": "code",
   "execution_count": 2,
   "metadata": {},
   "outputs": [],
   "source": [
    "master_data = True\n",
    "reuse_master_data = False # change after initial data processign\n",
    "if not master_data:\n",
    "    df = read_csv('../data/chess.csv') # adjust to use master_data.pgn\n",
    "    df = df[df['winner']!='draw']\n",
    "    moves = df['moves'].values[:100]\n",
    "    # print (moves)\n",
    "    winner = df['winner'].values"
   ]
  },
  {
   "cell_type": "code",
   "execution_count": 3,
   "metadata": {},
   "outputs": [],
   "source": [
    "def matrix_rep(board): \n",
    "    board_epd = board.epd()\n",
    "    mat = []  \n",
    "    pieces = board_epd.split(\" \", 1)[0]\n",
    "    rows = pieces.split(\"/\")\n",
    "    for r in rows:\n",
    "        sub_mat = []  \n",
    "        for pic in r:\n",
    "            if pic.isdigit():\n",
    "                for i in range(0, int(pic)):\n",
    "                    sub_mat.append('.')\n",
    "            else:\n",
    "                sub_mat.append(pic)\n",
    "        mat.append(sub_mat)\n",
    "    return mat"
   ]
  },
  {
   "cell_type": "code",
   "execution_count": 4,
   "metadata": {},
   "outputs": [],
   "source": [
    "def trans_code(matrix,pieces_dict):\n",
    "    rows = []\n",
    "    for row in matrix:\n",
    "        terms = []\n",
    "        for term in row:\n",
    "            terms.append(pieces_dict[term])\n",
    "        rows.append(terms)\n",
    "    return rows\n",
    "\n",
    "one_hot_pieces_dict = {\n",
    "    'p' : [1,0,0,0,0,0,0,0,0,0,0,0],\n",
    "    'P' : [0,0,0,0,0,0,1,0,0,0,0,0],\n",
    "    'n' : [0,1,0,0,0,0,0,0,0,0,0,0],\n",
    "    'N' : [0,0,0,0,0,0,0,1,0,0,0,0],\n",
    "    'b' : [0,0,1,0,0,0,0,0,0,0,0,0],\n",
    "    'B' : [0,0,0,0,0,0,0,0,1,0,0,0],\n",
    "    'r' : [0,0,0,1,0,0,0,0,0,0,0,0],\n",
    "    'R' : [0,0,0,0,0,0,0,0,0,1,0,0],\n",
    "    'q' : [0,0,0,0,1,0,0,0,0,0,0,0],\n",
    "    'Q' : [0,0,0,0,0,0,0,0,0,0,1,0],\n",
    "    'k' : [0,0,0,0,0,1,0,0,0,0,0,0],\n",
    "    'K' : [0,0,0,0,0,0,0,0,0,0,0,1],\n",
    "    '.' : [0,0,0,0,0,0,0,0,0,0,0,0],\n",
    "}"
   ]
  },
  {
   "cell_type": "code",
   "execution_count": 5,
   "metadata": {},
   "outputs": [
    {
     "output_type": "error",
     "ename": "FileNotFoundError",
     "evalue": "[Errno 2] No such file or directory: '../data/twic1356.pgn'",
     "traceback": [
      "\u001b[0;31m---------------------------------------------------------------------------\u001b[0m",
      "\u001b[0;31mFileNotFoundError\u001b[0m                         Traceback (most recent call last)",
      "\u001b[0;32m<ipython-input-5-bdec17009f99>\u001b[0m in \u001b[0;36m<module>\u001b[0;34m\u001b[0m\n\u001b[1;32m     24\u001b[0m \u001b[0;32melse\u001b[0m\u001b[0;34m:\u001b[0m\u001b[0;34m\u001b[0m\u001b[0;34m\u001b[0m\u001b[0m\n\u001b[1;32m     25\u001b[0m     \u001b[0;32mif\u001b[0m \u001b[0;34m(\u001b[0m\u001b[0;32mnot\u001b[0m \u001b[0mreuse_master_data\u001b[0m\u001b[0;34m)\u001b[0m\u001b[0;34m:\u001b[0m\u001b[0;34m\u001b[0m\u001b[0;34m\u001b[0m\u001b[0m\n\u001b[0;32m---> 26\u001b[0;31m         \u001b[0mpgn_data\u001b[0m \u001b[0;34m=\u001b[0m \u001b[0mopen\u001b[0m\u001b[0;34m(\u001b[0m\u001b[0;34m\"../data/twic1356.pgn\"\u001b[0m\u001b[0;34m)\u001b[0m\u001b[0;34m\u001b[0m\u001b[0;34m\u001b[0m\u001b[0m\n\u001b[0m\u001b[1;32m     27\u001b[0m         \u001b[0mX\u001b[0m \u001b[0;34m=\u001b[0m \u001b[0;34m[\u001b[0m\u001b[0;34m]\u001b[0m\u001b[0;34m\u001b[0m\u001b[0;34m\u001b[0m\u001b[0m\n\u001b[1;32m     28\u001b[0m         \u001b[0my\u001b[0m \u001b[0;34m=\u001b[0m \u001b[0;34m[\u001b[0m\u001b[0;34m]\u001b[0m\u001b[0;34m\u001b[0m\u001b[0;34m\u001b[0m\u001b[0m\n",
      "\u001b[0;31mFileNotFoundError\u001b[0m: [Errno 2] No such file or directory: '../data/twic1356.pgn'"
     ]
    }
   ],
   "source": [
    "if not master_data:\n",
    "    X = []\n",
    "    y = []\n",
    "    for game in moves:\n",
    "        index = list(moves).index(game)\n",
    "        all_moves = game.split()\n",
    "        total_moves = len(all_moves)\n",
    "        # print (index)\n",
    "        if winner[index] == 'black':\n",
    "            game_winner = -1\n",
    "        else:\n",
    "            game_winner = 1\n",
    "        board = chess.Board()\n",
    "        for i in range(len(all_moves)):\n",
    "            board.push_san(all_moves[i])\n",
    "            value = game_winner * (i/total_moves)\n",
    "            matrix = matrix_rep(board.copy())\n",
    "            rows = trans_code(matrix,one_hot_pieces_dict)\n",
    "            X.append([rows])\n",
    "            y.append(value)\n",
    "    X = np.array(X).reshape(len(X),8,8,12)\n",
    "    y = np.array(y)\n",
    "    X.shape\n",
    "else:\n",
    "    if (not reuse_master_data):\n",
    "        pgn_data = open(\"../data/twic1356.pgn\")\n",
    "        X = []\n",
    "        y = []\n",
    "        num_game = 0\n",
    "        while (not pgn_data.closed):\n",
    "            try:\n",
    "                game = chess.pgn.read_game(pgn_data)\n",
    "                result = game.headers[\"Result\"][2]\n",
    "                game_winner = 0\n",
    "                if result == '0':\n",
    "                    game_winner = 1 # white win\n",
    "                if result == '1':\n",
    "                    game_winner = -1 # black win\n",
    "                board = chess.Board()\n",
    "                all_moves = game.mainline_moves()\n",
    "                total_moves = 150 # change ?\n",
    "                i = 0\n",
    "                for move in all_moves:\n",
    "                    board.push(move)\n",
    "                    value = game_winner * (i/total_moves) # maybe change to just value = game_winner\n",
    "                    matrix = matrix_rep(board.copy())\n",
    "                    rows = trans_code(matrix, one_hot_pieces_dict)\n",
    "                    X.append([rows])\n",
    "                    y.append(value)\n",
    "                    i += 1\n",
    "            except:\n",
    "                break\n",
    "            num_game += 1\n",
    "            print (num_game)\n",
    "            # print (np.array(X).shape)\n",
    "        X = np.array(X).reshape(len(X),8,8,12)\n",
    "        y = np.array(y)\n",
    "        # X.shape\n",
    "        np.save('inputs.npy', X)\n",
    "        np.save('outputs.npy', y)\n",
    "\n",
    "    else:\n",
    "        X = load('inputs.npy')\n",
    "        y = load('outputs.npy')"
   ]
  },
  {
   "cell_type": "code",
   "execution_count": null,
   "metadata": {},
   "outputs": [],
   "source": []
  }
 ]
}